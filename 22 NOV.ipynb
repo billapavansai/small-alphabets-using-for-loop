{
 "cells": [
  {
   "cell_type": "code",
   "execution_count": 5,
   "id": "fd707448",
   "metadata": {},
   "outputs": [
    {
     "name": "stdout",
     "output_type": "stream",
     "text": [
      "  ****  \n",
      "      *\n",
      "  *****\n",
      "  *   *\n",
      "  ******\n"
     ]
    }
   ],
   "source": [
    "a=1\n",
    "for a in range (6):\n",
    "    if a==1:\n",
    "        print(\"  ****  \")\n",
    "    if a==2:\n",
    "        print(\"      *\")\n",
    "    if a==3:\n",
    "        print(\"  *****\")\n",
    "    if a==4:\n",
    "        print(\"  *   *\")\n",
    "    if a==5:\n",
    "        print(\"  ******\")\n",
    "        "
   ]
  },
  {
   "cell_type": "code",
   "execution_count": 6,
   "id": "fafb8cea",
   "metadata": {},
   "outputs": [
    {
     "name": "stdout",
     "output_type": "stream",
     "text": [
      "*\n",
      "*\n",
      "*******\n",
      "*      *\n",
      "*******\n"
     ]
    }
   ],
   "source": [
    "a=1\n",
    "for a in range (6):\n",
    "    if a ==1:\n",
    "        print(\"*\")\n",
    "    if a==2:\n",
    "        print(\"*\")\n",
    "    if a==3:\n",
    "        print(\"*******\")\n",
    "    if a==4:\n",
    "        print(\"*      *\")\n",
    "    if a==5:\n",
    "        print(\"*******\")"
   ]
  },
  {
   "cell_type": "code",
   "execution_count": 7,
   "id": "9fa301d9",
   "metadata": {},
   "outputs": [
    {
     "name": "stdout",
     "output_type": "stream",
     "text": [
      "  ******\n",
      " *\n",
      " *\n",
      "  ******\n"
     ]
    }
   ],
   "source": [
    "a=1\n",
    "for a in range (6):\n",
    "    if a==1:\n",
    "        print(\"  ******\")\n",
    "    if a==2:\n",
    "        print(\" *\")\n",
    "    if a==3:\n",
    "        print(\" *\")\n",
    "    if a==4:\n",
    "        print(\"  ******\")"
   ]
  },
  {
   "cell_type": "code",
   "execution_count": 13,
   "id": "054dece7",
   "metadata": {},
   "outputs": [
    {
     "name": "stdout",
     "output_type": "stream",
     "text": [
      "       *\n",
      "       *\n",
      "********\n",
      "*      *\n",
      "********\n"
     ]
    }
   ],
   "source": [
    "a=1\n",
    "for a in range (6):\n",
    "    if a==1:\n",
    "        print(\"       *\")\n",
    "    if a==2:\n",
    "        print(\"       *\")\n",
    "    if a==3:\n",
    "        print(\"********\")\n",
    "    if a==4:\n",
    "        print(\"*      *\")\n",
    "    if a==5:\n",
    "        print(\"********\")"
   ]
  },
  {
   "cell_type": "code",
   "execution_count": 18,
   "id": "cd9d9bb2",
   "metadata": {},
   "outputs": [
    {
     "name": "stdout",
     "output_type": "stream",
     "text": [
      "  *****\n",
      " *      *\n",
      " ******\n",
      "  *\n",
      "    ****\n"
     ]
    }
   ],
   "source": [
    "a=1\n",
    "for a in range (6):\n",
    "    if a==1:\n",
    "        print(\"  *****\")\n",
    "    if a==2:\n",
    "        print(\" *      *\")\n",
    "    if a==3:\n",
    "        print(\" ******\")\n",
    "    if a==4:\n",
    "        print(\"  *\")\n",
    "    if a==5:\n",
    "        print(\"    ****\")"
   ]
  },
  {
   "cell_type": "code",
   "execution_count": 19,
   "id": "d110ec59",
   "metadata": {},
   "outputs": [
    {
     "name": "stdout",
     "output_type": "stream",
     "text": [
      "   *****\n",
      "  *\n",
      "********\n",
      "  *\n",
      "  *\n"
     ]
    }
   ],
   "source": [
    "a=1\n",
    "for a in range (6):\n",
    "    if a==1:\n",
    "        print(\"   *****\")\n",
    "    if a==2:\n",
    "        print(\"  *\")\n",
    "    if a==3:\n",
    "        print(\"********\")\n",
    "    if a==4:\n",
    "        print(\"  *\")\n",
    "    if a==5:\n",
    "        print(\"  *\")"
   ]
  },
  {
   "cell_type": "code",
   "execution_count": 26,
   "id": "1afae83c",
   "metadata": {},
   "outputs": [
    {
     "name": "stdout",
     "output_type": "stream",
     "text": [
      "   *****\n",
      " *       *\n",
      " *       *\n",
      "   *******\n",
      "         *\n",
      "  *      *\n",
      "    ****\n"
     ]
    }
   ],
   "source": [
    "a=1\n",
    "for a in range (8):\n",
    "    if a==1:\n",
    "        print(\"   *****\")\n",
    "    if a==2:\n",
    "        print(\" *       *\")\n",
    "    if a==3:\n",
    "        print(\" *       *\")\n",
    "    if a==4:\n",
    "        print(\"   *******\")\n",
    "    if a==5:\n",
    "        print(\"         *\")\n",
    "    if a==6:\n",
    "        print(\"  *      *\")\n",
    "    if a==7:\n",
    "        print(\"    ****\")"
   ]
  },
  {
   "cell_type": "code",
   "execution_count": 29,
   "id": "f780455f",
   "metadata": {},
   "outputs": [
    {
     "name": "stdout",
     "output_type": "stream",
     "text": [
      "*\n",
      "*\n",
      "* ****\n",
      "*      *\n",
      "*      *\n"
     ]
    }
   ],
   "source": [
    "a=1\n",
    "for a in range (6):\n",
    "    if a==1:\n",
    "        print(\"*\")\n",
    "    if a==2:\n",
    "        print(\"*\")\n",
    "    if a==3:\n",
    "        print(\"* ****\")\n",
    "    if a==4:\n",
    "        print(\"*      *\")\n",
    "    if a==5:\n",
    "        print(\"*      *\")"
   ]
  },
  {
   "cell_type": "code",
   "execution_count": 31,
   "id": "dab2308c",
   "metadata": {},
   "outputs": [
    {
     "name": "stdout",
     "output_type": "stream",
     "text": [
      "o\n",
      " \n",
      "*\n",
      "*\n",
      "*\n"
     ]
    }
   ],
   "source": [
    "a=1\n",
    "for a in range (6):\n",
    "    if a==1:\n",
    "        print(\"o\")\n",
    "    if a==2:\n",
    "        print(\" \")\n",
    "    if a==3:\n",
    "        print(\"*\")\n",
    "    if a==4:\n",
    "        print(\"*\")\n",
    "    if a==5:\n",
    "        print(\"*\")"
   ]
  },
  {
   "cell_type": "code",
   "execution_count": 34,
   "id": "47f647d4",
   "metadata": {},
   "outputs": [
    {
     "name": "stdout",
     "output_type": "stream",
     "text": [
      "     o   \n",
      "         \n",
      "     *   \n",
      "     *   \n",
      " *   *   \n",
      "  ***\n"
     ]
    }
   ],
   "source": [
    "a=1\n",
    "for a in range (8):\n",
    "    if a==1:\n",
    "        print(\"     o   \")\n",
    "    if a==2:\n",
    "        print(\"         \")\n",
    "    if a==3:\n",
    "        print(\"     *   \")\n",
    "    if a==4:\n",
    "        print(\"     *   \")\n",
    "    if a==5:\n",
    "        print(\" *   *   \")\n",
    "    if a==6:\n",
    "        print(\"  ***\")"
   ]
  },
  {
   "cell_type": "code",
   "execution_count": 35,
   "id": "f979b70f",
   "metadata": {},
   "outputs": [
    {
     "name": "stdout",
     "output_type": "stream",
     "text": [
      "*\n",
      "*    *\n",
      "*  *\n",
      "**\n",
      "*  *\n",
      "*    *\n"
     ]
    }
   ],
   "source": [
    "a=1\n",
    "for a in range (8):\n",
    "    if a==1:\n",
    "        print(\"*\")\n",
    "    if a==2:\n",
    "        print(\"*    *\")\n",
    "    if a==3:\n",
    "        print(\"*  *\")\n",
    "    if a==4:\n",
    "        print(\"**\")\n",
    "    if a==5:\n",
    "        print(\"*  *\")\n",
    "    if a==6:\n",
    "        print(\"*    *\")"
   ]
  },
  {
   "cell_type": "code",
   "execution_count": 38,
   "id": "7796aea2",
   "metadata": {},
   "outputs": [
    {
     "name": "stdout",
     "output_type": "stream",
     "text": [
      "*\n",
      "*\n",
      "*\n",
      "*\n",
      "*\n"
     ]
    }
   ],
   "source": [
    "a=1\n",
    "for a in range (6):\n",
    "    if a==1:\n",
    "        print(\"*\")\n",
    "    if a==2:\n",
    "        print(\"*\")\n",
    "    if a==3:\n",
    "        print(\"*\")\n",
    "    if a==4:\n",
    "        print(\"*\")\n",
    "    if a==5:\n",
    "        print(\"*\")"
   ]
  },
  {
   "cell_type": "code",
   "execution_count": 41,
   "id": "1578ec9b",
   "metadata": {},
   "outputs": [
    {
     "name": "stdout",
     "output_type": "stream",
     "text": [
      "*  *   *   *   \n",
      "*      *      * \n",
      "*      *      * \n"
     ]
    }
   ],
   "source": [
    "a=1\n",
    "for a in range (7):\n",
    "    if a==1:\n",
    "        print(\"*  *   *   *   \")\n",
    "    if a==2:\n",
    "        print(\"*      *      * \")\n",
    "    if a==3:\n",
    "        print(\"*      *      * \")"
   ]
  },
  {
   "cell_type": "code",
   "execution_count": 42,
   "id": "f02e572c",
   "metadata": {},
   "outputs": [
    {
     "name": "stdout",
     "output_type": "stream",
     "text": [
      "*  **** \n",
      "*       *\n",
      "*       *\n"
     ]
    }
   ],
   "source": [
    "a=1\n",
    "for a in range (7):\n",
    "    if a==1:\n",
    "        print(\"*  **** \")\n",
    "    if a==2:\n",
    "        print(\"*       *\")\n",
    "    if a==3:\n",
    "        print(\"*       *\")"
   ]
  },
  {
   "cell_type": "code",
   "execution_count": 46,
   "id": "76306855",
   "metadata": {},
   "outputs": [
    {
     "name": "stdout",
     "output_type": "stream",
     "text": [
      "  *****  \n",
      "*       *\n",
      "*       *\n",
      "  *****  \n"
     ]
    }
   ],
   "source": [
    "a=1\n",
    "for a in range (6):\n",
    "    if a==1:\n",
    "        print(\"  *****  \")\n",
    "    if a==2:\n",
    "        print(\"*       *\")\n",
    "    if a==3:\n",
    "        print(\"*       *\")\n",
    "    if a==4:\n",
    "        print(\"  *****  \")"
   ]
  },
  {
   "cell_type": "code",
   "execution_count": 47,
   "id": "4c14813e",
   "metadata": {},
   "outputs": [
    {
     "name": "stdout",
     "output_type": "stream",
     "text": [
      "*****\n",
      "*    *\n",
      "*****\n",
      "*\n",
      "*\n"
     ]
    }
   ],
   "source": [
    "a=1\n",
    "for a in range (6):\n",
    "    if a==1:\n",
    "        print(\"*****\")\n",
    "    if a==2:\n",
    "        print(\"*    *\")\n",
    "    if a==3:\n",
    "        print(\"*****\")\n",
    "    if a==4:\n",
    "        print(\"*\")\n",
    "    if a==5:\n",
    "        print(\"*\")"
   ]
  },
  {
   "cell_type": "code",
   "execution_count": 51,
   "id": "006f9da5",
   "metadata": {},
   "outputs": [
    {
     "name": "stdout",
     "output_type": "stream",
     "text": [
      "     ****  \n",
      "   *      *\n",
      "     **** *   *\n",
      "           *\n"
     ]
    }
   ],
   "source": [
    "a=1\n",
    "for a in range (8):\n",
    "    if a==1:\n",
    "        print(\"     ****  \")\n",
    "    if a==2:\n",
    "        print(\"   *      *\")\n",
    "    if a==3:\n",
    "        print(\"     **** *   *\")\n",
    "    if a==4:\n",
    "        print(\"           *\")\n",
    "    "
   ]
  },
  {
   "cell_type": "code",
   "execution_count": 53,
   "id": "1e54659e",
   "metadata": {},
   "outputs": [
    {
     "name": "stdout",
     "output_type": "stream",
     "text": [
      "*  **\n",
      "**\n",
      "*\n",
      "*\n"
     ]
    }
   ],
   "source": [
    "a=1\n",
    "for a in range (6):\n",
    "    if a==1:\n",
    "        print(\"*  **\")\n",
    "    if a==2:\n",
    "        print(\"**\")\n",
    "    if a==3:\n",
    "        print(\"*\")\n",
    "    if a==4:\n",
    "        print(\"*\")"
   ]
  },
  {
   "cell_type": "code",
   "execution_count": 57,
   "id": "0c2b1c53",
   "metadata": {},
   "outputs": [
    {
     "name": "stdout",
     "output_type": "stream",
     "text": [
      "  ******\n",
      "*       \n",
      " ******\n",
      "        *\n",
      "******\n"
     ]
    }
   ],
   "source": [
    "a=1\n",
    "for a in range (8):\n",
    "    if a==1:\n",
    "        print(\"  ******\")\n",
    "    if a==2:\n",
    "        print(\"*       \")\n",
    "    if a==3:\n",
    "        print(\" ******\")\n",
    "    if a==4:\n",
    "        print(\"        *\")\n",
    "    if a==5:\n",
    "        print(\"******\")\n",
    "        "
   ]
  },
  {
   "cell_type": "code",
   "execution_count": 62,
   "id": "425e2e8f",
   "metadata": {},
   "outputs": [
    {
     "name": "stdout",
     "output_type": "stream",
     "text": [
      "   *   \n",
      "   *  \n",
      " ****** \n",
      "   *   \n",
      "   *   \n",
      "     **  \n"
     ]
    }
   ],
   "source": [
    "a=1\n",
    "for a in range (8):\n",
    "    if a==1:\n",
    "        print(\"   *   \")\n",
    "    if a==2:\n",
    "        print(\"   *  \")\n",
    "    if a==3:\n",
    "        print(\" ****** \")\n",
    "    if a==4:\n",
    "        print(\"   *   \")\n",
    "    if a==5:\n",
    "        print(\"   *   \")\n",
    "    if a==6:\n",
    "        print(\"     **  \")"
   ]
  },
  {
   "cell_type": "code",
   "execution_count": 65,
   "id": "e09fabb3",
   "metadata": {},
   "outputs": [
    {
     "name": "stdout",
     "output_type": "stream",
     "text": [
      "*     *\n",
      "*     *\n",
      " ***** **\n"
     ]
    }
   ],
   "source": [
    "a=1\n",
    "for a in range (8):\n",
    "    if a==1:\n",
    "        print(\"*     *\")\n",
    "    if a==2:\n",
    "        print(\"*     *\")\n",
    "    if a==3:\n",
    "        print(\" ***** **\")"
   ]
  },
  {
   "cell_type": "code",
   "execution_count": 67,
   "id": "9921320d",
   "metadata": {},
   "outputs": [
    {
     "name": "stdout",
     "output_type": "stream",
     "text": [
      "*     *\n",
      "*     *\n",
      "   *  \n"
     ]
    }
   ],
   "source": [
    "a=1\n",
    "for a in range (6):\n",
    "    if a==1:\n",
    "        print(\"*     *\")\n",
    "    if a==2:\n",
    "        print(\"*     *\")\n",
    "    if a==3:\n",
    "        print(\"   *  \")"
   ]
  },
  {
   "cell_type": "code",
   "execution_count": 68,
   "id": "46328cef",
   "metadata": {},
   "outputs": [
    {
     "name": "stdout",
     "output_type": "stream",
     "text": [
      " *        *\n",
      "*    *     * \n",
      "  *     *  \n"
     ]
    }
   ],
   "source": [
    "a=1\n",
    "for a in range (6):\n",
    "    if a==1:\n",
    "        print(\" *        *\")\n",
    "    if a==2:\n",
    "        print(\"*    *     * \")\n",
    "    if a==3:\n",
    "        print(\"  *     *  \")"
   ]
  },
  {
   "cell_type": "code",
   "execution_count": 71,
   "id": "f6108ce9",
   "metadata": {},
   "outputs": [
    {
     "name": "stdout",
     "output_type": "stream",
     "text": [
      "**         **\n",
      "    *   *     \n",
      "      *     \n",
      "    *    *   \n",
      "**         **\n"
     ]
    }
   ],
   "source": [
    "a=1\n",
    "for a in range (8):\n",
    "    if a==1:\n",
    "        print(\"**         **\")\n",
    "    if a==2:\n",
    "        print(\"    *   *     \")\n",
    "    if a==3:\n",
    "        print(\"      *     \")\n",
    "    if a==4:\n",
    "        print(\"    *    *   \")\n",
    "    if a==5:\n",
    "        print(\"**         **\")"
   ]
  },
  {
   "cell_type": "code",
   "execution_count": 74,
   "id": "69c535cc",
   "metadata": {},
   "outputs": [
    {
     "name": "stdout",
     "output_type": "stream",
     "text": [
      " *     *\n",
      "*      *\n",
      " ***** *\n",
      "       *\n",
      "*      *\n",
      "  ****  \n"
     ]
    }
   ],
   "source": [
    "a=1\n",
    "for a in range (8):\n",
    "    if a==1:\n",
    "        print(\" *     *\")\n",
    "    if a==2:\n",
    "        print(\"*      *\")\n",
    "    if a==3:\n",
    "        print(\" ***** *\")\n",
    "    if a==4:\n",
    "        print(\"       *\")\n",
    "    if a==5:\n",
    "        print(\"*      *\")\n",
    "    if a==6:\n",
    "        print(\"  ****  \")"
   ]
  },
  {
   "cell_type": "code",
   "execution_count": 75,
   "id": "7904c6f9",
   "metadata": {},
   "outputs": [
    {
     "name": "stdout",
     "output_type": "stream",
     "text": [
      "*******\n",
      "     * \n",
      "  *    \n",
      "*******\n"
     ]
    }
   ],
   "source": [
    "a=1\n",
    "for a in range (8):\n",
    "    if a==1:\n",
    "        print(\"*******\")\n",
    "    if a==2:\n",
    "        print(\"     * \")\n",
    "    if a==3:\n",
    "        print(\"  *    \")\n",
    "    if a==4:\n",
    "        print(\"*******\")"
   ]
  },
  {
   "cell_type": "code",
   "execution_count": null,
   "id": "29d0a986",
   "metadata": {},
   "outputs": [],
   "source": []
  }
 ],
 "metadata": {
  "kernelspec": {
   "display_name": "Python 3 (ipykernel)",
   "language": "python",
   "name": "python3"
  },
  "language_info": {
   "codemirror_mode": {
    "name": "ipython",
    "version": 3
   },
   "file_extension": ".py",
   "mimetype": "text/x-python",
   "name": "python",
   "nbconvert_exporter": "python",
   "pygments_lexer": "ipython3",
   "version": "3.9.13"
  }
 },
 "nbformat": 4,
 "nbformat_minor": 5
}
